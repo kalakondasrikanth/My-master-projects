{
 "cells": [
  {
   "cell_type": "raw",
   "metadata": {},
   "source": [
    "Generate 16 byte blocks from file.If the last block is not of len 16 then 0x01, 0x00, 0x00... 0x00 is added.\n",
    "\t\tPARAMS\n",
    "\t\t\tfilename: Name of the file to be read\n",
    "\t\tRETURNS\n",
    "\t\t\tlist of bytearrays representing each block."
   ]
  },
  {
   "cell_type": "code",
   "execution_count": 89,
   "metadata": {
    "collapsed": true
   },
   "outputs": [],
   "source": [
    "def get_blocks_from_file(filename):\n",
    "\tfile_content = open(filename, 'rb')\n",
    "\tblocks = []\n",
    "\twhile True:\n",
    "\t\tdata = bytearray(file_content.read(BLOCK_SIZE))\n",
    "\t\tif not data:\n",
    "\t\t\tbreak\n",
    "\t\tblocks.append(data)\n",
    "\tif len(blocks[-1]) < BLOCK_SIZE:\n",
    "\t\tblocks[-1] += bytearray([1] + [0 for _ in range(BLOCK_SIZE - len(blocks[-1]) - 1)])\n",
    "\telse:\t\t\n",
    "\t\tblocks.append(bytearray([1] + [0 for _ in range(BLOCK_SIZE - 1)]))\n",
    "\tfile_content.close()\n",
    "\treturn blocks"
   ]
  },
  {
   "cell_type": "code",
   "execution_count": 90,
   "metadata": {},
   "outputs": [
    {
     "data": {
      "text/plain": [
       "[bytearray(b\"b\\'Attack the blo\"),\n",
       " bytearray(b\"cks\\', b\\'\\', b\\'Sri\"),\n",
       " bytearray(b\"kanth\\',\\n        \"),\n",
       " bytearray(b'        b\"In sym'),\n",
       " bytearray(b'metric cryptogra'),\n",
       " bytearray(b'phy, the padding'),\n",
       " bytearray(b' oracle attack c'),\n",
       " bytearray(b'an be applied to'),\n",
       " bytearray(b' the CBC mode of'),\n",
       " bytearray(b' operation,\" +\\n '),\n",
       " bytearray(b'               b'),\n",
       " bytearray(b'\"where the \\\\\"ora'),\n",
       " bytearray(b'cle\\\\\" (usually a'),\n",
       " bytearray(b' server) leaks d'),\n",
       " bytearray(b'ata about whethe'),\n",
       " bytearray(b'r the padding of'),\n",
       " bytearray(b' an encrypted \" '),\n",
       " bytearray(b'+\\n              '),\n",
       " bytearray(b'  b\"message is c'),\n",
       " bytearray(b'orrect or not. S'),\n",
       " bytearray(b'uch data can all'),\n",
       " bytearray(b'ow attackers to '),\n",
       " bytearray(b'decrypt (and som'),\n",
       " bytearray(b'etimes encrypt) '),\n",
       " bytearray(b'\" +\\n            '),\n",
       " bytearray(b'    b\"messages t'),\n",
       " bytearray(b'hrough the oracl'),\n",
       " bytearray(b'e using the orac'),\n",
       " bytearray(b\"le\\'s key, withou\"),\n",
       " bytearray(b't knowing the en'),\n",
       " bytearray(b'cryption key\"\\x01\\x00\\x00')]"
      ]
     },
     "execution_count": 90,
     "metadata": {},
     "output_type": "execute_result"
    }
   ],
   "source": [
    "import aes_encrypt\n",
    "aes_encrypt.get_blocks_from_file(\"run-file.txt\")"
   ]
  },
  {
   "cell_type": "raw",
   "metadata": {},
   "source": [
    "Apply AES cipher to a block\n",
    "\t\tPARAMS\n",
    "\t\t\tblock: bytearray of 16 bytes.\n",
    "\t\t\texpanded_key: key expanded in 176 bytes.\n",
    "\t\tRETURNS\n",
    "\t\t\tblock encrypted with AES."
   ]
  },
  {
   "cell_type": "code",
   "execution_count": 92,
   "metadata": {
    "collapsed": true
   },
   "outputs": [],
   "source": [
    "def aes_cipher(block,  expanded_key):\n",
    "\tstate = block\n",
    "\tstate = add_round_key(state, expanded_key[0:16])\n",
    "\n",
    "\tfor aes_round in range(1, 10):\t\n",
    "\t\tstate = sub_bytes(state)\n",
    "\t\tstate = shift_rows(state)\n",
    "\t\tstate = mix_columns(state)\n",
    "\t\tstate = add_round_key(state, expanded_key[aes_round*16: aes_round*16+16])\n",
    "\tstate = sub_bytes(state)\n",
    "\tstate = shift_rows(state)\n",
    "\tstate = add_round_key(state, expanded_key[160: 176])\n",
    "\n",
    "\treturn state"
   ]
  },
  {
   "cell_type": "raw",
   "metadata": {},
   "source": [
    "Write ciphered blocks in a new file.\n",
    "\t\tPARAMS\t\t\n",
    "\t\t\tblocks: ciphered blocks of 16 bytes each.\n",
    "\t\t\tfilename: name of original file."
   ]
  },
  {
   "cell_type": "code",
   "execution_count": 93,
   "metadata": {
    "collapsed": true
   },
   "outputs": [],
   "source": [
    "def write_blocks_in_file(blocks):\n",
    "\tfile_blocks = open('cipher.txt', 'wb')\n",
    "\tfor block in blocks:\n",
    "\t\tfile_blocks.write(block)\n",
    "\tfile_blocks.close()"
   ]
  },
  {
   "cell_type": "raw",
   "metadata": {},
   "source": [
    "Write file extension and key in temporal file.\n",
    "\t\tPARAMS\n",
    "\t\t\tfilename: Name of the ciphered file.\n",
    "\t\t\tkey: key extended used to cipher file."
   ]
  },
  {
   "cell_type": "code",
   "execution_count": 94,
   "metadata": {
    "collapsed": true
   },
   "outputs": [],
   "source": [
    "def write_ext_and_key_in_file(filename, key_extended):\n",
    "\text_chars = []\n",
    "\tfor c in filename[::-1]:\n",
    "\t\tif c != '.':\n",
    "\t\t\text_chars.append(c)\n",
    "\t\telse:\n",
    "\t\t\tbreak\n",
    "\text = ''.join(ext_chars[::-1])\n",
    "\tfile_ext = open('cipher_ext.txt', 'w')\n",
    "\tfile_ext.write(ext)\n",
    "\tfile_key = open('cipher_key.txt', 'wb')\n",
    "\tfile_key.write(key_extended)\n",
    "\tfile_ext.close()\n",
    "\tfile_key.close()"
   ]
  },
  {
   "cell_type": "code",
   "execution_count": 95,
   "metadata": {},
   "outputs": [
    {
     "name": "stdout",
     "output_type": "stream",
     "text": [
      "Your file has been encrypted with AES!\n",
      "\n",
      "KEY\n",
      "0x5e 0xe9 0x33 0x85 0xb7 0xcc 0x13 0x24 0x1e 0xf5 0x61 0xf3 0xf2 0x4c 0xda 0xfd \n",
      "\n",
      "Cipher contained in file: cipher.txt\n"
     ]
    }
   ],
   "source": [
    "aes_encrypt.main('run-file.txt')"
   ]
  },
  {
   "cell_type": "code",
   "execution_count": 96,
   "metadata": {
    "collapsed": true
   },
   "outputs": [],
   "source": [
    "BLOCK_SIZE = 16 # This is bytes\n",
    "\n",
    "SBOX = \t[0x63, 0x7c, 0x77, 0x7b, 0xf2, 0x6b, 0x6f, 0xc5, 0x30, 0x01, 0x67,\n",
    "         0x2b, 0xfe, 0xd7, 0xab, 0x76, 0xca, 0x82, 0xc9, 0x7d, 0xfa, 0x59,\n",
    "         0x47, 0xf0, 0xad, 0xd4, 0xa2, 0xaf, 0x9c, 0xa4, 0x72, 0xc0, 0xb7,\n",
    "         0xfd, 0x93, 0x26, 0x36, 0x3f, 0xf7, 0xcc, 0x34, 0xa5, 0xe5, 0xf1,\n",
    "         0x71, 0xd8, 0x31, 0x15, 0x04, 0xc7, 0x23, 0xc3, 0x18, 0x96, 0x05,\n",
    "         0x9a, 0x07, 0x12, 0x80, 0xe2, 0xeb, 0x27, 0xb2, 0x75, 0x09, 0x83,\n",
    "         0x2c, 0x1a, 0x1b, 0x6e, 0x5a, 0xa0, 0x52, 0x3b, 0xd6, 0xb3, 0x29,\n",
    "         0xe3, 0x2f, 0x84, 0x53, 0xd1, 0x00, 0xed, 0x20, 0xfc, 0xb1, 0x5b,\n",
    "         0x6a, 0xcb, 0xbe, 0x39, 0x4a, 0x4c, 0x58, 0xcf, 0xd0, 0xef, 0xaa,\n",
    "         0xfb, 0x43, 0x4d, 0x33, 0x85, 0x45, 0xf9, 0x02, 0x7f, 0x50, 0x3c,\n",
    "         0x9f, 0xa8, 0x51, 0xa3, 0x40, 0x8f, 0x92, 0x9d, 0x38, 0xf5, 0xbc,\n",
    "         0xb6, 0xda, 0x21, 0x10, 0xff, 0xf3, 0xd2, 0xcd, 0x0c, 0x13, 0xec,\n",
    "         0x5f, 0x97, 0x44, 0x17, 0xc4, 0xa7, 0x7e, 0x3d, 0x64, 0x5d, 0x19,\n",
    "         0x73, 0x60, 0x81, 0x4f, 0xdc, 0x22, 0x2a, 0x90, 0x88, 0x46, 0xee,\n",
    "         0xb8, 0x14, 0xde, 0x5e, 0x0b, 0xdb, 0xe0, 0x32, 0x3a, 0x0a, 0x49,\n",
    "         0x06, 0x24, 0x5c, 0xc2, 0xd3, 0xac, 0x62, 0x91, 0x95, 0xe4, 0x79,\n",
    "         0xe7, 0xc8, 0x37, 0x6d, 0x8d, 0xd5, 0x4e, 0xa9, 0x6c, 0x56, 0xf4,\n",
    "         0xea, 0x65, 0x7a, 0xae, 0x08, 0xba, 0x78, 0x25, 0x2e, 0x1c, 0xa6,\n",
    "         0xb4, 0xc6, 0xe8, 0xdd, 0x74, 0x1f, 0x4b, 0xbd, 0x8b, 0x8a, 0x70,\n",
    "         0x3e, 0xb5, 0x66, 0x48, 0x03, 0xf6, 0x0e, 0x61, 0x35, 0x57, 0xb9,\n",
    "         0x86, 0xc1, 0x1d, 0x9e, 0xe1, 0xf8, 0x98, 0x11, 0x69, 0xd9, 0x8e,\n",
    "         0x94, 0x9b, 0x1e, 0x87, 0xe9, 0xce, 0x55, 0x28, 0xdf, 0x8c, 0xa1,\n",
    "         0x89, 0x0d, 0xbf, 0xe6, 0x42, 0x68, 0x41, 0x99, 0x2d, 0x0f, 0xb0,\n",
    "         0x54, 0xbb, 0x16]\n",
    "\n",
    "RCON = [0x01,0x02,0x04,0x08,0x10,0x20,0x40,0x80,0x1b,0x36]"
   ]
  },
  {
   "cell_type": "raw",
   "metadata": {},
   "source": [
    "Apply simple substitution byte by byte using operantions in GF(2^8)\t\n",
    "\t\tPARAMS\n",
    "\t\t\tstate: bytearray of 16 bytes.\n",
    "\t\tRETURNS\n",
    "\t\t\tbytearray of 16 bytes with substitution applied."
   ]
  },
  {
   "cell_type": "code",
   "execution_count": 97,
   "metadata": {
    "collapsed": true
   },
   "outputs": [],
   "source": [
    "def sub_bytes(state):\n",
    "\treturn bytearray([SBOX[x] for x in state])"
   ]
  },
  {
   "cell_type": "raw",
   "metadata": {},
   "source": [
    "Change the order of the array between cols and rows of its matrix representation.\n",
    "\t\tPARAMS\n",
    "\t\t\t state: bytearray of 16 bytes.\n",
    "\t\tRETURNS\n",
    "\t\t\tstate with its cols and rows changed."
   ]
  },
  {
   "cell_type": "code",
   "execution_count": 98,
   "metadata": {
    "collapsed": true
   },
   "outputs": [],
   "source": [
    "def change_order_between_cols_rows(state):\n",
    "\tresult = [0x0 for _ in range(16)]\n",
    "\tj = 0\n",
    "\tfor i in range(4):\n",
    "\t\tresult[j] = state[i]; j+=1\n",
    "\t\tresult[j] = state[i + (1 * 4)]; j+=1\n",
    "\t\tresult[j] = state[i + (2 * 4)]; j+=1\n",
    "\t\tresult[j] = state[i + (3 * 4)]; j+=1\n",
    "\treturn bytearray(result)"
   ]
  },
  {
   "cell_type": "raw",
   "metadata": {},
   "source": [
    "Apply row shifting in a block of bytes (16 bytes)\t\n",
    "\t\tPARAMS\n",
    "\t\t\tstate: bytearray of 16 bytes.\n",
    "\t\tRETURNS\n",
    "\t\t\tbytearray of 16 bytes with shift applied."
   ]
  },
  {
   "cell_type": "code",
   "execution_count": 99,
   "metadata": {
    "collapsed": true
   },
   "outputs": [],
   "source": [
    "def shift_rows(state):\n",
    "\tstate = change_order_between_cols_rows(state)\n",
    "\trow_size = 4\n",
    "\tfor i in range(row_size):\n",
    "\t\td = collections.deque(state[i*row_size: i*row_size+row_size])\n",
    "\t\td.rotate(-i)\n",
    "\t\tstate[i*row_size: i*row_size+row_size] = list(d)\n",
    "\treturn change_order_between_cols_rows(state)"
   ]
  },
  {
   "cell_type": "raw",
   "metadata": {},
   "source": [
    "Apply additions and multiplications in GF(2^8)\n",
    "\t\tPARAMS\n",
    "\t\t\tstate: bytearray of 16 bytes.\n",
    "\t\tRETURNS\n",
    "\t\t\tstate with mixed columns"
   ]
  },
  {
   "cell_type": "code",
   "execution_count": 100,
   "metadata": {
    "collapsed": true
   },
   "outputs": [],
   "source": [
    "def mix_columns(state):\n",
    "\tfor i in range(0, 16, 4):\t\t\n",
    "\t\ta0 = state[i]\n",
    "\t\ta1 = state[i + 1]\n",
    "\t\ta2 = state[i + 2]\n",
    "\t\ta3 = state[i + 3]\n",
    "\t\tstate[i] = gmul(2, a0)^gmul(3, a1)^a2^a3\t\t\n",
    "\t\tstate[i + 1] = gmul(2, a1)^gmul(3, a2)^a0^a3\n",
    "\t\tstate[i + 2] = gmul(2, a2)^gmul(3, a3)^a0^a1\n",
    "\t\tstate[i + 3] = gmul(2, a3)^gmul(3, a0)^a1^a2\n",
    "\treturn state"
   ]
  },
  {
   "cell_type": "raw",
   "metadata": {},
   "source": [
    "Apply XOR between the key_block and state\n",
    "\t\tPARAMS\n",
    "\t\t\tstate: bytearray of 16 bytes.\n",
    "\t\tRETURNS\n",
    "\t\t\tstate with XOR applied."
   ]
  },
  {
   "cell_type": "code",
   "execution_count": 101,
   "metadata": {
    "collapsed": true
   },
   "outputs": [],
   "source": [
    "def add_round_key(state, key_block):\n",
    "\treturn bytearray([state[i]^key_block[i] for i in range(16)])"
   ]
  },
  {
   "cell_type": "raw",
   "metadata": {},
   "source": [
    "Apply multiplication in GF(2^m) using Shift-and-add method.\t\t\n",
    "\t\tPARAMS\n",
    "\t\t\ta: Fist element for multiplication in the GF.\n",
    "\t\t\tb: Second element for the multiplication in the GF.\n",
    "\t\tRETURNS\n",
    "\t\t\tthe result of multiplication."
   ]
  },
  {
   "cell_type": "code",
   "execution_count": 102,
   "metadata": {
    "collapsed": true
   },
   "outputs": [],
   "source": [
    "def gmul(a, b):\n",
    "\tc = 0\n",
    "\tif (a & 1) == 1:\n",
    "\t\tc = b\n",
    "\n",
    "\tfor _ in range(1, 8):\n",
    "\t\thi_bit = (b & 0x80)\n",
    "\t\tb <<= 1\n",
    "\t\tb &= 0xff # Get rid of the most significant bit outside 2 bytes.\n",
    "\t\tif hi_bit == 0x80:\n",
    "\t\t\tb ^= 0x1b\n",
    "\t\ta >>= 1\n",
    "\t\tif (a & 1) == 1:\n",
    "\t\t\tc ^= b\n",
    "\treturn c"
   ]
  },
  {
   "cell_type": "raw",
   "metadata": {},
   "source": [
    "Rotates the first column of a block for the expanded key\t\n",
    "\t\tPARAMS\n",
    "\t\t\tsub_key: list with bytes to rotate\n",
    "\t\tRETURNS\n",
    "\t\t\trotated list of bytes"
   ]
  },
  {
   "cell_type": "code",
   "execution_count": 103,
   "metadata": {
    "collapsed": true
   },
   "outputs": [],
   "source": [
    "def rotate(sub_key):\n",
    "\ttemp = sub_key[:]\n",
    "\t\n",
    "\tsub_key[0] = temp[1]\n",
    "\tsub_key[1] = temp[2]\n",
    "\tsub_key[2] = temp[3]\n",
    "\tsub_key[3] = temp[0]\n",
    "\n",
    "\treturn sub_key"
   ]
  },
  {
   "cell_type": "raw",
   "metadata": {},
   "source": [
    "Generates a random key of the number of bytes specified.\n",
    "\t\tPARAMS:\n",
    "\t\t\t- num_bytes: size of key in bytes (default = 16 which\n",
    "\t\t\tis 128 bits.)\n",
    "\t\t\t- int_representation: boolean value if the key should\n",
    "\t\t\tbe returned in byte or int representation. default is\n",
    "\t\t\tFalse.\n",
    "\t\tRETURNS:\n",
    "\t\t\t- random_key: key in byte representation. If int_representation\n",
    "\t\t\tis set to True, returns the key as integer value."
   ]
  },
  {
   "cell_type": "code",
   "execution_count": 104,
   "metadata": {
    "collapsed": true
   },
   "outputs": [],
   "source": [
    "def generate_key(num_bytes=16, int_representation=False):\n",
    "\trandom_key = os.urandom(num_bytes)\n",
    "\t\n",
    "\tif int_representation:\n",
    "\t\trandom_key = int.from_bytes(random_key, byteorder='big')\n",
    "\t\n",
    "\treturn random_key"
   ]
  },
  {
   "cell_type": "raw",
   "metadata": {},
   "source": [
    "Expands a 16 byte key into a 176 byte key.\n",
    "\t\tPARAMS\n",
    "\t\t\tkey: a 16 byte random key in hex representation\n",
    "\t\tRETURNS\n",
    "\t\t\t176 byte key in hex representation."
   ]
  },
  {
   "cell_type": "code",
   "execution_count": 105,
   "metadata": {
    "collapsed": true
   },
   "outputs": [],
   "source": [
    "def expand_key(key):\n",
    "\texpanded_key = []\n",
    "\t[expanded_key.append(byte) for byte in key]\n",
    "\ttemp = bytearray(4)\n",
    "\t\n",
    "\ti = 16\n",
    "\tr_const = 0\n",
    "\n",
    "\twhile(i < 176):\n",
    "\n",
    "\t\ttemp = [expanded_key[a + i - 4] for a in range(4)]\n",
    "\n",
    "\t\tif i % 16 == 0:\n",
    "\t\t\ttemp = rotate(temp)\n",
    "\t\t\t\n",
    "\t\t\tfor a in range(4):\n",
    "\t\t\t\ttemp[a] = SBOX[temp[a]]\n",
    "\t\t\t\n",
    "\t\t\ttemp[0] = temp[0] ^ RCON[r_const]\n",
    "\t\n",
    "\t\t\tr_const += 1\n",
    "\n",
    "\t\tfor j in range(4):\n",
    "\t\t\tval = expanded_key[i - 16] ^ temp[j]\n",
    "\t\t\texpanded_key.append(val)\n",
    "\t\t\ti += 1\n",
    "\n",
    "\treturn expanded_key"
   ]
  },
  {
   "cell_type": "code",
   "execution_count": 106,
   "metadata": {},
   "outputs": [
    {
     "name": "stdout",
     "output_type": "stream",
     "text": [
      "Your file has been decrypted!\n",
      "\n",
      "Please check file: result.txt\n"
     ]
    }
   ],
   "source": [
    "# import aes_decrypt\n",
    "aes_decrypt.main()"
   ]
  },
  {
   "cell_type": "code",
   "execution_count": 107,
   "metadata": {
    "collapsed": true
   },
   "outputs": [],
   "source": [
    "INV_SBOX = [0x52, 0x09, 0x6a, 0xd5, 0x30, 0x36, 0xa5, 0x38, 0xbf, 0x40, 0xa3, 0x9e,\n",
    "\t\t\t0x81, 0xf3, 0xd7, 0xfb, 0x7c, 0xe3, 0x39, 0x82, 0x9b, 0x2f, 0xff, 0x87, 0x34, 0x8e,\n",
    "\t\t\t0x43, 0x44, 0xc4, 0xde, 0xe9, 0xcb, 0x54, 0x7b, 0x94, 0x32, 0xa6, 0xc2, 0x23, 0x3d,\n",
    "\t\t\t0xee, 0x4c, 0x95, 0x0b, 0x42, 0xfa, 0xc3, 0x4e, 0x08, 0x2e, 0xa1, 0x66, 0x28, 0xd9,\n",
    "\t\t\t0x24, 0xb2, 0x76, 0x5b, 0xa2, 0x49, 0x6d, 0x8b, 0xd1, 0x25, 0x72, 0xf8, 0xf6, 0x64,\n",
    "\t\t\t0x86, 0x68, 0x98, 0x16, 0xd4, 0xa4, 0x5c, 0xcc, 0x5d, 0x65, 0xb6, 0x92, 0x6c, 0x70,\n",
    "\t\t\t0x48, 0x50, 0xfd, 0xed, 0xb9, 0xda, 0x5e, 0x15, 0x46, 0x57, 0xa7, 0x8d, 0x9d, 0x84,\n",
    "\t\t\t0x90, 0xd8, 0xab, 0x00, 0x8c, 0xbc, 0xd3, 0x0a, 0xf7, 0xe4, 0x58, 0x05, 0xb8, 0xb3,\n",
    "\t\t\t0x45, 0x06, 0xd0, 0x2c, 0x1e, 0x8f, 0xca, 0x3f, 0x0f, 0x02, 0xc1, 0xaf, 0xbd, 0x03, \n",
    "\t\t\t0x01, 0x13, 0x8a, 0x6b, 0x3a, 0x91, 0x11, 0x41, 0x4f, 0x67, 0xdc, 0xea, 0x97, 0xf2,\n",
    "\t\t\t0xcf, 0xce, 0xf0, 0xb4, 0xe6, 0x73, 0x96, 0xac, 0x74, 0x22, 0xe7, 0xad, 0x35, 0x85, \n",
    "\t\t\t0xe2, 0xf9, 0x37, 0xe8, 0x1c, 0x75, 0xdf, 0x6e, 0x47, 0xf1, 0x1a, 0x71, 0x1d, 0x29,\n",
    "\t\t\t0xc5, 0x89, 0x6f, 0xb7, 0x62, 0x0e, 0xaa, 0x18, 0xbe, 0x1b, 0xfc, 0x56, 0x3e, 0x4b,\n",
    "\t\t\t0xc6, 0xd2, 0x79, 0x20, 0x9a, 0xdb, 0xc0, 0xfe, 0x78, 0xcd, 0x5a, 0xf4, 0x1f, 0xdd,\n",
    "\t\t\t0xa8, 0x33, 0x88, 0x07, 0xc7, 0x31, 0xb1, 0x12, 0x10, 0x59, 0x27, 0x80, 0xec, 0x5f,\n",
    "\t\t\t0x60, 0x51, 0x7f, 0xa9, 0x19, 0xb5, 0x4a, 0x0d, 0x2d, 0xe5, 0x7a, 0x9f, 0x93, 0xc9,\n",
    "\t\t\t0x9c, 0xef, 0xa0, 0xe0, 0x3b, 0x4d, 0xae, 0x2a, 0xf5, 0xb0, 0xc8, 0xeb, 0xbb, 0x3c,\n",
    "\t\t\t0x83, 0x53, 0x99, 0x61, 0x17, 0x2b, 0x04, 0x7e, 0xba, 0x77, 0xd6, 0x26, 0xe1, 0x69,\n",
    "\t\t\t0x14, 0x63, 0x55, 0x21, 0x0c, 0x7d]"
   ]
  },
  {
   "cell_type": "raw",
   "metadata": {},
   "source": [
    "Get the file extension from the file generated in encryption AES.\n",
    "RETURNS-file extension"
   ]
  },
  {
   "cell_type": "code",
   "execution_count": 108,
   "metadata": {
    "collapsed": true
   },
   "outputs": [],
   "source": [
    "def get_file_ext_from_file():\n",
    "\tfile_content = open('cipher_ext.txt', 'r')\n",
    "\text = file_content.read()\n",
    "\tfile_content.close()\n",
    "\treturn ext"
   ]
  },
  {
   "cell_type": "raw",
   "metadata": {},
   "source": [
    "Gets the ciphered blocks from the file generated in encryption AES.\n",
    "\t\tRETURNS ciphered blocks."
   ]
  },
  {
   "cell_type": "code",
   "execution_count": 109,
   "metadata": {
    "collapsed": true
   },
   "outputs": [],
   "source": [
    "def get_blocks_from_file():\n",
    "\n",
    "\tfile_content = open('cipher.txt', 'rb')\n",
    "\tblocks = []\n",
    "\twhile True:\n",
    "\t\tdata = bytearray(file_content.read(BLOCK_SIZE))\n",
    "\t\tif not data:\n",
    "\t\t\tbreak\n",
    "\t\tblocks.append(data)\n",
    "\tfile_content.close()\n",
    "\treturn blocks"
   ]
  },
  {
   "cell_type": "raw",
   "metadata": {},
   "source": [
    "Apply row shifting in a block of bytes (16 bytes)\n",
    "PARAMS-state: bytearray of 16 bytes.\n",
    "RETURNS-bytearray of 16 bytes with shift applied."
   ]
  },
  {
   "cell_type": "code",
   "execution_count": 110,
   "metadata": {
    "collapsed": true
   },
   "outputs": [],
   "source": [
    "def inv_shift_rows(state):\n",
    "\tstate = change_order_between_cols_rows(state)\n",
    "\trow_size = 4\n",
    "\tfor i in range(row_size):\n",
    "\t\td = collections.deque(state[i*row_size: i*row_size+row_size])\n",
    "\t\td.rotate(i)\n",
    "\t\tstate[i*row_size: i*row_size+row_size] = list(d)\n",
    "\treturn change_order_between_cols_rows(state)\n"
   ]
  },
  {
   "cell_type": "raw",
   "metadata": {},
   "source": [
    "Apply simple substitution byte by byte using operantions in GF(2^8)\n",
    "PARAMS-state: bytearray of 16 bytes.\n",
    "RETURNS-bytearray of 16 bytes with substitution applied."
   ]
  },
  {
   "cell_type": "code",
   "execution_count": 111,
   "metadata": {
    "collapsed": true
   },
   "outputs": [],
   "source": [
    "def inv_sub_bytes(state):\n",
    "\treturn bytearray([INV_SBOX[x] for x in state])"
   ]
  },
  {
   "cell_type": "raw",
   "metadata": {},
   "source": [
    "Apply XOR between the key_block and state\n",
    "\t\tPARAMS\n",
    "\t\t\tstate: bytearray of 16 bytes.\n",
    "\t\tRETURNS\n",
    "\t\t\tstate with XOR applied."
   ]
  },
  {
   "cell_type": "code",
   "execution_count": 112,
   "metadata": {
    "collapsed": true
   },
   "outputs": [],
   "source": [
    "def inv_add_round_key(state, key_block):\n",
    "\treturn bytearray([state[i]^key_block[i] for i in range(16)])\n"
   ]
  },
  {
   "cell_type": "raw",
   "metadata": {},
   "source": [
    "Apply additions and multiplications in GF(2^8)\n",
    "\t\tPARAMS\n",
    "\t\t\tstate: bytearray of 16 bytes.\n",
    "\t\tRETURNS\n",
    "\t\t\tstate with mixed columns"
   ]
  },
  {
   "cell_type": "code",
   "execution_count": 113,
   "metadata": {
    "collapsed": true
   },
   "outputs": [],
   "source": [
    "def inv_mix_columns(state):\n",
    "\tfor i in range(0, 16, 4):\t\t\n",
    "\t\ta0 = state[i]\n",
    "\t\ta1 = state[i + 1]\n",
    "\t\ta2 = state[i + 2]\n",
    "\t\ta3 = state[i + 3]\n",
    "\t\tstate[i] = gmul(14, a0)^gmul(11, a1)^gmul(13, a2)^gmul(9, a3)\t\t\n",
    "\t\tstate[i + 1] = gmul(9, a0)^gmul(14, a1)^gmul(11, a2)^gmul(13, a3)\n",
    "\t\tstate[i + 2] = gmul(13, a0)^gmul(9, a1)^gmul(14, a2)^gmul(11, a3)\n",
    "\t\tstate[i + 3] = gmul(11, a0)^gmul(13, a1)^gmul(9, a2)^gmul(14, a3)\n",
    "\treturn state"
   ]
  },
  {
   "cell_type": "raw",
   "metadata": {},
   "source": [
    "Apply multiplication in GF(2^m) using Shift-and-add method.\n",
    "\t\tPARAMS\n",
    "\t\t\ta: Fist element for multiplication in the GF.\n",
    "\t\t\tb: Second element for the multiplication in the GF.\n",
    "\t\tRETURNS\n",
    "\t\t\tthe result of multiplication."
   ]
  },
  {
   "cell_type": "code",
   "execution_count": 114,
   "metadata": {
    "collapsed": true
   },
   "outputs": [],
   "source": [
    "def gmul(a, b):\n",
    "\tc = 0\n",
    "\tif (a & 1) == 1:\n",
    "\t\tc = b\n",
    "\n",
    "\tfor _ in range(1, 8):\n",
    "\t\thi_bit = (b & 0x80)\n",
    "\t\tb <<= 1\n",
    "\t\tb &= 0xff # Get rid of the most significant bit outside 2 bytes.\n",
    "\t\tif hi_bit == 0x80:\n",
    "\t\t\tb ^= 0x1b\n",
    "\t\ta >>= 1\n",
    "\t\tif (a & 1) == 1:\n",
    "\t\t\tc ^= b\n",
    "\treturn c"
   ]
  },
  {
   "cell_type": "raw",
   "metadata": {},
   "source": [
    "Change the order of the array between cols and rows of its matrix representation.\n",
    "\t\tPARAMS\n",
    "\t\t\tstate: state: bytearray of 16 bytes.\n",
    "\t\tRETURNS\n",
    "\t\t\tstate with its cols and rows changed."
   ]
  },
  {
   "cell_type": "code",
   "execution_count": 115,
   "metadata": {
    "collapsed": true
   },
   "outputs": [],
   "source": [
    "def change_order_between_cols_rows(state):\n",
    "\tresult = [0x0 for _ in range(16)]\n",
    "\tj = 0\n",
    "\tfor i in range(4):\n",
    "\t\tresult[j] = state[i]; j+=1\n",
    "\t\tresult[j] = state[i + (1 * 4)]; j+=1\n",
    "\t\tresult[j] = state[i + (2 * 4)]; j+=1\n",
    "\t\tresult[j] = state[i + (3 * 4)]; j+=1\n",
    "\treturn bytearray(result)"
   ]
  },
  {
   "cell_type": "raw",
   "metadata": {},
   "source": [
    "Write ciphered blocks in a new file.\n",
    "\t\tPARAMS\t\n",
    "\t\t\tblocks: ciphered blocks of 16 bytes each.\t\t"
   ]
  },
  {
   "cell_type": "code",
   "execution_count": 116,
   "metadata": {
    "collapsed": true
   },
   "outputs": [],
   "source": [
    "def write_blocks_in_file(blocks, ext, last_valid_index):\n",
    "\tfile_blocks = open('result.' + ext, 'wb')\n",
    "\tfor i in range(len(blocks)):\n",
    "\t\tif i < len(blocks) - 1:\n",
    "\t\t\tfile_blocks.write(blocks[i])\n",
    "\t\telse:\n",
    "\t\t\tfile_blocks.write(blocks[i][:last_valid_index])\n",
    "\tfile_blocks.close()"
   ]
  },
  {
   "cell_type": "raw",
   "metadata": {},
   "source": [
    "Get the index of the last byte 01\n",
    "\t\tRETURNS\n",
    "\t\t\tindex of last byte 01."
   ]
  },
  {
   "cell_type": "code",
   "execution_count": 117,
   "metadata": {
    "collapsed": true
   },
   "outputs": [],
   "source": [
    "def get_last_valid_byte_index(block):\n",
    "\tfor i in range(BLOCK_SIZE):\n",
    "\t\tif block[i] == 0x01:\n",
    "\t\t\treturn i\n",
    "\treturn 0"
   ]
  },
  {
   "cell_type": "raw",
   "metadata": {},
   "source": [
    "Gets the expanded key from the file generated in encryption AES.\n",
    "\t\tRETURNS\n",
    "\t\t\texpanded_key as bytearray."
   ]
  },
  {
   "cell_type": "code",
   "execution_count": 118,
   "metadata": {
    "collapsed": true
   },
   "outputs": [],
   "source": [
    "def get_expanded_key_from_file():\n",
    "\tfile_content = open('cipher_key.txt', 'rb')\n",
    "\tdata = file_content.read()\n",
    "\tfile_content.close()\n",
    "\treturn bytearray(data)"
   ]
  },
  {
   "cell_type": "code",
   "execution_count": 119,
   "metadata": {
    "collapsed": true
   },
   "outputs": [],
   "source": [
    "def attack( ciphertext ):\n",
    "\tguessed_clear = b''\n",
    "\n",
    "\tsplit_string = lambda x, n: [x[i:i+n] for i in range(0, len(x), n)]\n",
    "\tblocks = split_string( ciphertext, BLOCK_SIZE )\n",
    "\t\n",
    "\tfor block_n in range( len( blocks ) - 1, 0, -1 ): #build pair of blocks starting from end of message\n",
    "\t\tspliced_ciphertext = blocks[block_n - 1] + blocks[block_n]\n",
    "\n",
    "\t\tdecoded_bytes = b'?' * BLOCK_SIZE #output of block cipher decoding values\n",
    "\n",
    "\t\t##GET VALUE OF SECRET BYTE byte\n",
    "\t\tfor byte in range( BLOCK_SIZE - 1, -1, -1 ):\n",
    "\t\t\tnew_pad_len = BLOCK_SIZE - byte\n",
    "\n",
    "\t\t\t#Build hacked ciphertext tail with values to obtain desired padding\n",
    "\t\t\thacked_ciphertext_tail = b''\n",
    "\t\t\tfor padder_index in range( 1, new_pad_len ):\n",
    "\t\t\t\thacked_ciphertext_tail += bytearray.fromhex('{:02x}'.format( new_pad_len ^ decoded_bytes[byte + padder_index] ) )\n",
    "\t\t\t\n",
    "\t\t\tfor i in range( 0, 256 ):\n",
    "\t\t\t\tattack_str = bytearray.fromhex( '{:02x}'.format( ( i ^ spliced_ciphertext[byte] ) ) )\n",
    "\t\t\t\thacked_ciphertext = spliced_ciphertext[:byte] + attack_str + hacked_ciphertext_tail + spliced_ciphertext[byte + 1 + new_pad_len - 1:]\n",
    "\n",
    "\t\t\t\tif( is_padding_ok( hacked_ciphertext ) ):\n",
    "\n",
    "\t\t\t\t\ttest_correctness = hacked_ciphertext[:byte - 1] + bytearray.fromhex( '{:02x}'.format( ( 1 ^  hacked_ciphertext[byte] ) ) )  + hacked_ciphertext[byte:]\n",
    "\t\t\t\t\tif( not is_padding_ok( test_correctness ) ):\n",
    "\t\t\t\t\t\tcontinue\n",
    "\t\t\t\t\t\n",
    "\t\t\t\t\tdecoded_bytes = decoded_bytes[:byte] + bytearray.fromhex('{:02x}'.format( hacked_ciphertext[byte] ^ new_pad_len ) ) + decoded_bytes[byte + 1:]\n",
    "\t\t\t\t\tguessed_clear = bytearray.fromhex('{:02x}'.format( i ^ new_pad_len ) ) + guessed_clear\n",
    "\t\t\t\t\tbreak\n",
    "\t\n",
    "\treturn guessed_clear[:-guessed_clear[-1]] #remove padding!"
   ]
  },
  {
   "cell_type": "code",
   "execution_count": 120,
   "metadata": {
    "collapsed": true
   },
   "outputs": [],
   "source": [
    "def encrypt(msg):\n",
    "\tiv = _random_gen.read(AES.block_size)\n",
    "\tcipher = AES.new(_key, AES.MODE_CBC, iv)\n",
    "\treturn iv + cipher.encrypt(_add_padding(msg))"
   ]
  },
  {
   "cell_type": "code",
   "execution_count": 121,
   "metadata": {
    "collapsed": true
   },
   "outputs": [],
   "source": [
    "def _decrypt(data):\n",
    "\tiv = data[:BLOCK_SIZE]\n",
    "\tcipher = AES.new(_key, AES.MODE_CBC, iv)\n",
    "\treturn _remove_padding(cipher.decrypt(data[BLOCK_SIZE:]))"
   ]
  },
  {
   "cell_type": "code",
   "execution_count": 122,
   "metadata": {
    "collapsed": true
   },
   "outputs": [],
   "source": [
    "def is_padding_ok(data):\n",
    "\treturn _decrypt(data) is not None"
   ]
  },
  {
   "cell_type": "code",
   "execution_count": 123,
   "metadata": {
    "collapsed": true
   },
   "outputs": [],
   "source": [
    "def _add_padding(msg):\n",
    "\tpad_len = BLOCK_SIZE - (len(msg) % BLOCK_SIZE)\n",
    "\tpadding = bytes([pad_len]) * pad_len\n",
    "\treturn msg + padding"
   ]
  },
  {
   "cell_type": "code",
   "execution_count": 124,
   "metadata": {
    "collapsed": true
   },
   "outputs": [],
   "source": [
    "def _remove_padding(data):\n",
    "\tpad_len = data[-1]\n",
    "\t\n",
    "\tif pad_len < 1 or pad_len > BLOCK_SIZE:\n",
    "\t\treturn None\n",
    "\tfor i in range(1, pad_len):\n",
    "\t\tif data[-i-1] != pad_len:\n",
    "\t\t\treturn None\n",
    "\treturn data[:-pad_len]"
   ]
  },
  {
   "cell_type": "code",
   "execution_count": 125,
   "metadata": {},
   "outputs": [
    {
     "name": "stdout",
     "output_type": "stream",
     "text": [
      "Testing: b'Attack the blocks' OF LENGTH 17\n",
      "Testing: b'' OF LENGTH 0\n",
      "Testing: b'Srikanth' OF LENGTH 8\n",
      "Testing: b'In symmetric cryptography, the padding oracle attack can be applied to the CBC mode of operation,where the \"oracle\" (usually a server) leaks data about whether the padding of an encrypted message is correct or not. Such data can allow attackers to decrypt (and sometimes encrypt) messages through the oracle using the oracle\\'s key, without knowing the encryption key' OF LENGTH 366\n"
     ]
    }
   ],
   "source": [
    "import aes_attack\n",
    "import aes_oracle\n",
    "aes_attack.test_the_attack()"
   ]
  }
 ],
 "metadata": {
  "kernelspec": {
   "display_name": "Python 3",
   "language": "python",
   "name": "python3"
  },
  "language_info": {
   "codemirror_mode": {
    "name": "ipython",
    "version": 3
   },
   "file_extension": ".py",
   "mimetype": "text/x-python",
   "name": "python",
   "nbconvert_exporter": "python",
   "pygments_lexer": "ipython3",
   "version": "3.6.3"
  }
 },
 "nbformat": 4,
 "nbformat_minor": 2
}
